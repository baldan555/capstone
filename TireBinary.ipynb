{
  "nbformat": 4,
  "nbformat_minor": 0,
  "metadata": {
    "colab": {
      "provenance": [],
      "gpuType": "T4",
      "private_outputs": true,
      "include_colab_link": true
    },
    "kernelspec": {
      "name": "python3",
      "display_name": "Python 3"
    },
    "language_info": {
      "name": "python"
    },
    "accelerator": "GPU"
  },
  "cells": [
    {
      "cell_type": "markdown",
      "metadata": {
        "id": "view-in-github",
        "colab_type": "text"
      },
      "source": [
        "<a href=\"https://colab.research.google.com/github/baldan555/capstone/blob/main/TireBinary.ipynb\" target=\"_parent\"><img src=\"https://colab.research.google.com/assets/colab-badge.svg\" alt=\"Open In Colab\"/></a>"
      ]
    },
    {
      "cell_type": "code",
      "execution_count": null,
      "metadata": {
        "id": "KF9DYvQCcf-O"
      },
      "outputs": [],
      "source": [
        "import numpy as np\n",
        "import matplotlib.pyplot as plt\n",
        "%matplotlib inline\n",
        "\n",
        "from sklearn.metrics import confusion_matrix, classification_report\n",
        "import tensorflow as tf\n",
        "from tensorflow import keras\n",
        "from tensorflow.keras.models import Sequential\n",
        "from tensorflow.keras import regularizers\n",
        "from tensorflow.keras.regularizers import l2\n",
        "from tensorflow.keras.layers import Activation, BatchNormalization, Conv2D, Dense, Dropout, Flatten, MaxPooling2D, Dropout\n",
        "from tensorflow.keras.preprocessing.image import ImageDataGenerator\n",
        "from tensorflow.keras.optimizers import Adam\n",
        "from tensorflow.keras.losses import CategoricalCrossentropy\n",
        "from tensorflow.keras.callbacks import ReduceLROnPlateau, EarlyStopping"
      ]
    },
    {
      "cell_type": "code",
      "source": [
        "from google.colab import drive\n",
        "drive.mount('/content/drive')"
      ],
      "metadata": {
        "id": "nszeaOrQcrS5"
      },
      "execution_count": null,
      "outputs": []
    },
    {
      "cell_type": "code",
      "source": [
        "train_dataset_path = (\"/content/drive/MyDrive/CAPSTONE BANGKIT PROJECT BISMILLAH//256/train\")\n",
        "validation_dataset_path = (\"/content/drive/MyDrive/CAPSTONE BANGKIT PROJECT BISMILLAH/256/test\")"
      ],
      "metadata": {
        "id": "GoXHy0JTcrh-"
      },
      "execution_count": null,
      "outputs": []
    },
    {
      "cell_type": "code",
      "source": [
        "IMG_WIDTH = 256\n",
        "IMG_HEIGHT = 256\n",
        "BATCH_SIZE = 32"
      ],
      "metadata": {
        "id": "dat5lef9crkI"
      },
      "execution_count": null,
      "outputs": []
    },
    {
      "cell_type": "code",
      "source": [
        "train_datagen = ImageDataGenerator(rescale=1.0/255,\n",
        "                                  zoom_range=0.28,\n",
        "                                  shear_range=0.3,\n",
        "                                  width_shift_range=0.2,\n",
        "                                  height_shift_range=0.2,\n",
        "                                  horizontal_flip=True,\n",
        "                                  vertical_flip=True,\n",
        "                                  fill_mode='nearest')\n",
        "train_generator = train_datagen.flow_from_directory(train_dataset_path,\n",
        "                                                   target_size= (IMG_WIDTH, IMG_HEIGHT),\n",
        "                                                   batch_size=BATCH_SIZE,\n",
        "                                                   color_mode ='rgb',\n",
        "                                                   class_mode='binary',\n",
        "                                                   shuffle=True)"
      ],
      "metadata": {
        "id": "zNckEUIccrmQ"
      },
      "execution_count": null,
      "outputs": []
    },
    {
      "cell_type": "code",
      "source": [
        "validation_datagen = ImageDataGenerator(rescale=1.0/255,\n",
        "                                        )\n",
        "validation_generator = validation_datagen.flow_from_directory(validation_dataset_path,\n",
        "                                                             target_size=(IMG_WIDTH, IMG_HEIGHT),\n",
        "                                                             batch_size=BATCH_SIZE,\n",
        "                                                             color_mode ='rgb',\n",
        "                                                             class_mode='binary',\n",
        "                                                             shuffle=True)"
      ],
      "metadata": {
        "id": "5YISzu1_croG"
      },
      "execution_count": null,
      "outputs": []
    },
    {
      "cell_type": "code",
      "source": [
        "sample_train_images, _ = next(train_generator)\n",
        "print(sample_train_images.shape)"
      ],
      "metadata": {
        "id": "WpIXmYZXy3zB"
      },
      "execution_count": null,
      "outputs": []
    },
    {
      "cell_type": "code",
      "source": [
        "sample_valid_images, _ = next(validation_generator)\n",
        "print(sample_valid_images.shape)"
      ],
      "metadata": {
        "id": "-Gum7flqzkoM"
      },
      "execution_count": null,
      "outputs": []
    },
    {
      "cell_type": "code",
      "source": [
        "labels = {value: key for key, value in train_generator.class_indices.items()}\n",
        "\n",
        "print(\"Label class dari data train\\n\")\n",
        "for key, value in labels.items():\n",
        "    print(f\"{key} : {value}\")"
      ],
      "metadata": {
        "id": "eS3lqPU2z39h"
      },
      "execution_count": null,
      "outputs": []
    },
    {
      "cell_type": "code",
      "source": [
        "model = Sequential([\n",
        "\n",
        "tf.keras.layers.Conv2D(16, (5,5), activation='relu', input_shape=(256, 256, 3)),\n",
        "    tf.keras.layers.MaxPooling2D(2,2),\n",
        "    tf.keras.layers.Conv2D(32, (3,3), activation='relu'),\n",
        "    tf.keras.layers.MaxPooling2D(2,2),\n",
        "    tf.keras.layers.Conv2D(64, (3,3), activation='relu'),\n",
        "    tf.keras.layers.MaxPooling2D(2,2),\n",
        "    tf.keras.layers.Conv2D(128, (3,3), activation='relu'),\n",
        "    tf.keras.layers.MaxPooling2D(2,2),\n",
        "    tf.keras.layers.Flatten(),\n",
        "    tf.keras.layers.Dropout(0.2),\n",
        "    tf.keras.layers.Dense(1024, activation='relu'),\n",
        "    tf.keras.layers.Dense(1, activation='sigmoid')\n",
        "])\n",
        "\n"
      ],
      "metadata": {
        "id": "sboj1zYdcrqF"
      },
      "execution_count": null,
      "outputs": []
    },
    {
      "cell_type": "code",
      "source": [
        "optimizer = tf.keras.optimizers.legacy.Adam(learning_rate=0.001,\n",
        "                 decay = 1e-4,\n",
        "                 beta_1=0.8,\n",
        "                 beta_2=0.999,\n",
        "                 amsgrad=True)"
      ],
      "metadata": {
        "id": "3RFTFv_Kp2N_"
      },
      "execution_count": null,
      "outputs": []
    },
    {
      "cell_type": "code",
      "source": [
        "#reduce_lr = ReduceLROnPlateau(monitor='val_loss', factor=np.sqrt(0.1), patience=5)\n",
        "\n",
        "\n",
        "\"\"\"class MyThresholdCallback(tf.keras.callbacks.Callback):\n",
        "    def __init__(self, threshold):\n",
        "        super().__init__()\n",
        "        self.threshold = threshold\n",
        "\n",
        "    def on_epoch_end(self, epoch, logs=None):\n",
        "        val_accuracy = logs.get(\"val_accuracy\")\n",
        "        train_accuracy = logs.get(\"accuracy\")\n",
        "        if val_accuracy > self.threshold and train_accuracy > self.threshold:\n",
        "            self.model.stop_training = True\n",
        "\n",
        "callbacks = MyThresholdCallback(threshold=0.92)\"\"\"\n"
      ],
      "metadata": {
        "id": "KppQWwUpfqYU"
      },
      "execution_count": null,
      "outputs": []
    },
    {
      "cell_type": "code",
      "source": [
        "model.compile(optimizer=optimizer, loss='binary_crossentropy', metrics=['accuracy'])\n",
        "\n",
        "model.summary()"
      ],
      "metadata": {
        "id": "CkYzQNLIp5dX"
      },
      "execution_count": null,
      "outputs": []
    },
    {
      "cell_type": "code",
      "source": [
        "history = model.fit(train_generator, epochs=60, validation_data=validation_generator,\n",
        "                       verbose=2,\n",
        "                       \n",
        "                       )"
      ],
      "metadata": {
        "id": "HXFrA94ueoMf"
      },
      "execution_count": null,
      "outputs": []
    },
    {
      "cell_type": "code",
      "source": [
        "train_accuracy = history.history['accuracy']\n",
        "val_accuracy = history.history['val_accuracy']\n",
        "\n",
        "train_loss = history.history['loss']\n",
        "val_loss = history.history['val_loss']\n",
        "\n"
      ],
      "metadata": {
        "id": "arnvToyDg1y2"
      },
      "execution_count": null,
      "outputs": []
    },
    {
      "cell_type": "code",
      "source": [
        "fig, ax = plt.subplots(nrows=2, ncols=1, figsize=(12, 10))\n",
        "\n",
        "ax[0].set_title('Training Accuracy vs. Epochs')\n",
        "ax[0].plot(train_accuracy, 'o-', label='Train Accuracy')\n",
        "ax[0].plot(val_accuracy, 'o-', label='Validation Accuracy')\n",
        "ax[0].set_xlabel('Epochs')\n",
        "ax[0].set_ylabel('Accuracy')\n",
        "ax[0].legend(loc='best')\n",
        "\n",
        "ax[1].set_title('Training/Validation Loss vs. Epochs')\n",
        "ax[1].plot(train_loss, 'o-', label='Train Loss')\n",
        "ax[1].plot(val_loss, 'o-', label='Validation Loss')\n",
        "ax[1].set_xlabel('Epochs')\n",
        "ax[1].set_ylabel('Loss')\n",
        "ax[1].legend(loc='best')\n",
        "\n",
        "\n",
        "\n",
        "plt.tight_layout()\n",
        "plt.show()"
      ],
      "metadata": {
        "id": "782JsgJvgT1e"
      },
      "execution_count": null,
      "outputs": []
    },
    {
      "cell_type": "code",
      "source": [
        "test_dataset_path = (\"/content/drive/MyDrive/CAPSTONE BANGKIT PROJECT BISMILLAH/coba\")"
      ],
      "metadata": {
        "id": "nYM6lmTa1vbq"
      },
      "execution_count": null,
      "outputs": []
    },
    {
      "cell_type": "code",
      "source": [
        "test_datagen = ImageDataGenerator(rescale=1.0/255)\n",
        "\n",
        "test_generator = test_datagen.flow_from_directory(test_dataset_path,\n",
        "                                                 shuffle=False,\n",
        "                                                 batch_size=BATCH_SIZE,\n",
        "                                                 target_size = (IMG_WIDTH, IMG_HEIGHT),\n",
        "                                                 class_mode='binary')"
      ],
      "metadata": {
        "id": "AolT1Du-2qnR"
      },
      "execution_count": null,
      "outputs": []
    },
    {
      "cell_type": "code",
      "source": [
        "predictions = model.predict(test_generator)"
      ],
      "metadata": {
        "id": "kuLCLxAm2qpY"
      },
      "execution_count": null,
      "outputs": []
    },
    {
      "cell_type": "code",
      "source": [
        "fig, ax = plt.subplots(nrows=2, ncols=5, figsize=(10, 8))\n",
        "idx = 0\n",
        "\n",
        "for i in range(2):\n",
        "    for j in range(5):\n",
        "        predicted_label = labels[np.argmax(predictions[idx])]\n",
        "        ax[i, j].set_title(f\"{predicted_label}\")\n",
        "        ax[i, j].imshow(test_generator[0][0][idx])\n",
        "        ax[i, j].axis(\"off\")\n",
        "        idx += 1\n",
        "\n",
        "plt.tight_layout()\n",
        "plt.suptitle(\"Test Dataset Predictions\", fontsize=20, color = 'red')\n",
        "plt.show()"
      ],
      "metadata": {
        "id": "s9l5iyZF2qrU"
      },
      "execution_count": null,
      "outputs": []
    },
    {
      "cell_type": "code",
      "source": [
        "test_loss, test_accuracy = model.evaluate(test_generator, batch_size=BATCH_SIZE)"
      ],
      "metadata": {
        "id": "tQz5gXGO4LIH"
      },
      "execution_count": null,
      "outputs": []
    },
    {
      "cell_type": "code",
      "source": [
        "from google.colab import files\n",
        "from tensorflow.keras.preprocessing import image\n",
        "import matplotlib.pyplot as plt\n",
        "import numpy as np\n",
        "\n",
        "uploaded = files.upload()\n",
        "\n",
        "for fn in uploaded.keys():\n",
        "    path = fn\n",
        "    img = image.load_img(path, target_size=(256, 256))\n",
        "    imgplot = plt.imshow(img)\n",
        "    x = image.img_to_array(img)\n",
        "    x = np.expand_dims(x, axis=0)\n",
        "\n",
        "    images = np.vstack([x])\n",
        "    classes = model.predict(images, batch_size=32)\n",
        "\n",
        "    print(fn)\n",
        "    if classes[0, 0] == 1.0:\n",
        "        print('Kualitas buruk')\n",
        "    else:\n",
        "        print('Kualitas baik')\n"
      ],
      "metadata": {
        "id": "20ShO8KD5_gv"
      },
      "execution_count": null,
      "outputs": []
    },
    {
      "cell_type": "code",
      "source": [
        "from tensorflow.keras.models import load_model\n",
        "import os\n"
      ],
      "metadata": {
        "id": "o7YQtiAHp6Aq"
      },
      "execution_count": null,
      "outputs": []
    },
    {
      "cell_type": "code",
      "source": [
        "model.save(os.path.join('drive/MyDrive/CAPSTONE BANGKIT PROJECT BISMILLAH/file model', 'Tirebinary.h5'))"
      ],
      "metadata": {
        "id": "aFN4i8Acp6GY"
      },
      "execution_count": null,
      "outputs": []
    },
    {
      "cell_type": "code",
      "source": [
        "model = keras.models.load_model('drive/MyDrive/CAPSTONE BANGKIT PROJECT BISMILLAH/file model/Tirebinary.h5')"
      ],
      "metadata": {
        "id": "XD3bVVgw6VNU"
      },
      "execution_count": null,
      "outputs": []
    },
    {
      "cell_type": "code",
      "source": [
        "converter = tf.lite.TFLiteConverter.from_keras_model(model)\n",
        "tflite_model = converter.convert()"
      ],
      "metadata": {
        "id": "TteBcVAC6kEl"
      },
      "execution_count": null,
      "outputs": []
    },
    {
      "cell_type": "code",
      "source": [
        "with open('drive/MyDrive/CAPSTONE BANGKIT PROJECT BISMILLAH/file model/Tirebinary.tflite', 'wb') as f:\n",
        "    f.write(tflite_model)"
      ],
      "metadata": {
        "id": "v_v9PaWN6rZd"
      },
      "execution_count": null,
      "outputs": []
    },
    {
      "cell_type": "code",
      "source": [
        "model_json = model.to_json()"
      ],
      "metadata": {
        "id": "R7P_kf_G63Ex"
      },
      "execution_count": null,
      "outputs": []
    },
    {
      "cell_type": "code",
      "source": [
        "with open('drive/MyDrive/CAPSTONE BANGKIT PROJECT BISMILLAH/file model/Tirebinary.json', 'w') as json_file:\n",
        "    json_file.write(model_json)"
      ],
      "metadata": {
        "id": "zbYmrgky67em"
      },
      "execution_count": null,
      "outputs": []
    },
    {
      "cell_type": "code",
      "source": [
        "model.save('/content/drive/MyDrive/CAPSTONE BANGKIT PROJECT BISMILLAH/file model/saved_model')"
      ],
      "metadata": {
        "id": "rMSlxHap74Ac"
      },
      "execution_count": null,
      "outputs": []
    }
  ]
}